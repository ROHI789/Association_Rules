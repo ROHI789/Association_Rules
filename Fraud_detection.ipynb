{
  "cells": [
    {
      "cell_type": "markdown",
      "metadata": {
        "id": "view-in-github",
        "colab_type": "text"
      },
      "source": [
        "<a href=\"https://colab.research.google.com/github/ROHI789/Association_Rules/blob/main/Fraud_detection.ipynb\" target=\"_parent\"><img src=\"https://colab.research.google.com/assets/colab-badge.svg\" alt=\"Open In Colab\"/></a>"
      ]
    },
    {
      "cell_type": "markdown",
      "metadata": {
        "id": "R3c1YEEHCMqs"
      },
      "source": [
        "**Import Libraries**"
      ]
    },
    {
      "cell_type": "code",
      "execution_count": null,
      "metadata": {
        "id": "zYni-g7DX4EO"
      },
      "outputs": [],
      "source": [
        "import pandas as pd\n",
        "import numpy as np\n",
        "import matplotlib.pyplot as plt\n",
        "import seaborn as ssn\n",
        "import seaborn as sns\n",
        "import warnings\n",
        "warnings.filterwarnings(\"ignore\")\n",
        "from sklearn.model_selection import train_test_split\n",
        "from sklearn import metrics"
      ]
    },
    {
      "cell_type": "markdown",
      "metadata": {
        "id": "yhVKAUz6XLIK"
      },
      "source": [
        "**Import Dataset**"
      ]
    },
    {
      "cell_type": "code",
      "execution_count": 12,
      "metadata": {
        "id": "7SHhtpDCNRpb",
        "colab": {
          "base_uri": "https://localhost:8080/",
          "height": 870
        },
        "outputId": "80c67218-5cda-4fff-b290-e8dd03e2fb61"
      },
      "outputs": [
        {
          "output_type": "execute_result",
          "data": {
            "text/plain": [
              "           Area_Service Hospital County  Hospital Id          Age Gender  \\\n",
              "0            Western NY        Allegany         37.0     30 to 49      F   \n",
              "1            Western NY        Allegany         37.0  70 or Older      F   \n",
              "2            Western NY        Allegany         37.0     30 to 49      F   \n",
              "3            Western NY        Allegany         37.0      0 to 17      F   \n",
              "4            Western NY        Allegany         37.0  70 or Older      F   \n",
              "...                 ...             ...          ...          ...    ...   \n",
              "618875  Capital/Adirond        Columbia        146.0     30 to 49      M   \n",
              "618876  Capital/Adirond        Columbia        146.0     30 to 49      F   \n",
              "618877  Capital/Adirond        Columbia        146.0      0 to 17      M   \n",
              "618878  Capital/Adirond        Columbia        146.0     50 to 69      M   \n",
              "618879  Capital/Adirond        Columbia        146.0     18 to 29    NaN   \n",
              "\n",
              "       Cultural_group          ethnicity Days_spend_hsptl Admission_type  \\\n",
              "0               White  Not Span/Hispanic                4       Elective   \n",
              "1               White  Not Span/Hispanic                4         Urgent   \n",
              "2               White  Not Span/Hispanic                3         Urgent   \n",
              "3               White  Not Span/Hispanic                1         Urgent   \n",
              "4               White  Not Span/Hispanic                3       Elective   \n",
              "...               ...                ...              ...            ...   \n",
              "618875          White  Not Span/Hispanic               11      Emergency   \n",
              "618876          White  Not Span/Hispanic                1      Emergency   \n",
              "618877          White  Not Span/Hispanic                2        Newborn   \n",
              "618878          White  Not Span/Hispanic                1      Emergency   \n",
              "618879            NaN                NaN              NaN            NaN   \n",
              "\n",
              "         Home or self care,  ...  Mortality risk  Surg_Description  \\\n",
              "0         Home or Self Care  ...             1.0           Medical   \n",
              "1       Short-term Hospital  ...             2.0           Medical   \n",
              "2         Home or Self Care  ...             1.0           Medical   \n",
              "3         Home or Self Care  ...             1.0           Medical   \n",
              "4         Home or Self Care  ...             3.0           Medical   \n",
              "...                     ...  ...             ...               ...   \n",
              "618875    Home or Self Care  ...             1.0           Medical   \n",
              "618876    Home or Self Care  ...             1.0           Medical   \n",
              "618877    Home or Self Care  ...             1.0           Medical   \n",
              "618878    Home or Self Care  ...             2.0           Medical   \n",
              "618879                  NaN  ...             NaN               NaN   \n",
              "\n",
              "       Weight_baby  Abortion  Emergency dept_yes/No Tot_charg  Tot_cost  \\\n",
              "0              0.0         N                      Y   5511.95   5582.49   \n",
              "1              0.0         N                      Y   4783.20   5162.82   \n",
              "2              0.0         N                      Y   3829.15   4056.52   \n",
              "3              0.0         N                      Y   1108.20   1644.75   \n",
              "4              0.0         N                      Y   3418.18   3370.87   \n",
              "...            ...       ...                    ...       ...       ...   \n",
              "618875         0.0         N                      Y  18356.61   7731.76   \n",
              "618876         0.0         N                      Y   9767.96   3194.72   \n",
              "618877      4400.0         N                      N   3411.76   1358.63   \n",
              "618878         0.0         N                      Y  10231.34   2355.64   \n",
              "618879         NaN       NaN                    NaN       NaN       NaN   \n",
              "\n",
              "       ratio_of_total_costs_to_total_charges Result  Payment_Typology  \n",
              "0                                   1.012798    1.0               1.0  \n",
              "1                                   1.079365    1.0               1.0  \n",
              "2                                   1.059379    1.0               1.0  \n",
              "3                                   1.484167    0.0               1.0  \n",
              "4                                   0.986161    1.0               1.0  \n",
              "...                                      ...    ...               ...  \n",
              "618875                              0.421198    1.0               2.0  \n",
              "618876                              0.327061    1.0               1.0  \n",
              "618877                              0.398218    1.0               3.0  \n",
              "618878                              0.230238    0.0               3.0  \n",
              "618879                                   NaN    NaN               NaN  \n",
              "\n",
              "[618880 rows x 24 columns]"
            ],
            "text/html": [
              "\n",
              "  <div id=\"df-70fba5da-9d0a-4880-8d1a-b4e9f7ce8119\">\n",
              "    <div class=\"colab-df-container\">\n",
              "      <div>\n",
              "<style scoped>\n",
              "    .dataframe tbody tr th:only-of-type {\n",
              "        vertical-align: middle;\n",
              "    }\n",
              "\n",
              "    .dataframe tbody tr th {\n",
              "        vertical-align: top;\n",
              "    }\n",
              "\n",
              "    .dataframe thead th {\n",
              "        text-align: right;\n",
              "    }\n",
              "</style>\n",
              "<table border=\"1\" class=\"dataframe\">\n",
              "  <thead>\n",
              "    <tr style=\"text-align: right;\">\n",
              "      <th></th>\n",
              "      <th>Area_Service</th>\n",
              "      <th>Hospital County</th>\n",
              "      <th>Hospital Id</th>\n",
              "      <th>Age</th>\n",
              "      <th>Gender</th>\n",
              "      <th>Cultural_group</th>\n",
              "      <th>ethnicity</th>\n",
              "      <th>Days_spend_hsptl</th>\n",
              "      <th>Admission_type</th>\n",
              "      <th>Home or self care,</th>\n",
              "      <th>...</th>\n",
              "      <th>Mortality risk</th>\n",
              "      <th>Surg_Description</th>\n",
              "      <th>Weight_baby</th>\n",
              "      <th>Abortion</th>\n",
              "      <th>Emergency dept_yes/No</th>\n",
              "      <th>Tot_charg</th>\n",
              "      <th>Tot_cost</th>\n",
              "      <th>ratio_of_total_costs_to_total_charges</th>\n",
              "      <th>Result</th>\n",
              "      <th>Payment_Typology</th>\n",
              "    </tr>\n",
              "  </thead>\n",
              "  <tbody>\n",
              "    <tr>\n",
              "      <th>0</th>\n",
              "      <td>Western NY</td>\n",
              "      <td>Allegany</td>\n",
              "      <td>37.0</td>\n",
              "      <td>30 to 49</td>\n",
              "      <td>F</td>\n",
              "      <td>White</td>\n",
              "      <td>Not Span/Hispanic</td>\n",
              "      <td>4</td>\n",
              "      <td>Elective</td>\n",
              "      <td>Home or Self Care</td>\n",
              "      <td>...</td>\n",
              "      <td>1.0</td>\n",
              "      <td>Medical</td>\n",
              "      <td>0.0</td>\n",
              "      <td>N</td>\n",
              "      <td>Y</td>\n",
              "      <td>5511.95</td>\n",
              "      <td>5582.49</td>\n",
              "      <td>1.012798</td>\n",
              "      <td>1.0</td>\n",
              "      <td>1.0</td>\n",
              "    </tr>\n",
              "    <tr>\n",
              "      <th>1</th>\n",
              "      <td>Western NY</td>\n",
              "      <td>Allegany</td>\n",
              "      <td>37.0</td>\n",
              "      <td>70 or Older</td>\n",
              "      <td>F</td>\n",
              "      <td>White</td>\n",
              "      <td>Not Span/Hispanic</td>\n",
              "      <td>4</td>\n",
              "      <td>Urgent</td>\n",
              "      <td>Short-term Hospital</td>\n",
              "      <td>...</td>\n",
              "      <td>2.0</td>\n",
              "      <td>Medical</td>\n",
              "      <td>0.0</td>\n",
              "      <td>N</td>\n",
              "      <td>Y</td>\n",
              "      <td>4783.20</td>\n",
              "      <td>5162.82</td>\n",
              "      <td>1.079365</td>\n",
              "      <td>1.0</td>\n",
              "      <td>1.0</td>\n",
              "    </tr>\n",
              "    <tr>\n",
              "      <th>2</th>\n",
              "      <td>Western NY</td>\n",
              "      <td>Allegany</td>\n",
              "      <td>37.0</td>\n",
              "      <td>30 to 49</td>\n",
              "      <td>F</td>\n",
              "      <td>White</td>\n",
              "      <td>Not Span/Hispanic</td>\n",
              "      <td>3</td>\n",
              "      <td>Urgent</td>\n",
              "      <td>Home or Self Care</td>\n",
              "      <td>...</td>\n",
              "      <td>1.0</td>\n",
              "      <td>Medical</td>\n",
              "      <td>0.0</td>\n",
              "      <td>N</td>\n",
              "      <td>Y</td>\n",
              "      <td>3829.15</td>\n",
              "      <td>4056.52</td>\n",
              "      <td>1.059379</td>\n",
              "      <td>1.0</td>\n",
              "      <td>1.0</td>\n",
              "    </tr>\n",
              "    <tr>\n",
              "      <th>3</th>\n",
              "      <td>Western NY</td>\n",
              "      <td>Allegany</td>\n",
              "      <td>37.0</td>\n",
              "      <td>0 to 17</td>\n",
              "      <td>F</td>\n",
              "      <td>White</td>\n",
              "      <td>Not Span/Hispanic</td>\n",
              "      <td>1</td>\n",
              "      <td>Urgent</td>\n",
              "      <td>Home or Self Care</td>\n",
              "      <td>...</td>\n",
              "      <td>1.0</td>\n",
              "      <td>Medical</td>\n",
              "      <td>0.0</td>\n",
              "      <td>N</td>\n",
              "      <td>Y</td>\n",
              "      <td>1108.20</td>\n",
              "      <td>1644.75</td>\n",
              "      <td>1.484167</td>\n",
              "      <td>0.0</td>\n",
              "      <td>1.0</td>\n",
              "    </tr>\n",
              "    <tr>\n",
              "      <th>4</th>\n",
              "      <td>Western NY</td>\n",
              "      <td>Allegany</td>\n",
              "      <td>37.0</td>\n",
              "      <td>70 or Older</td>\n",
              "      <td>F</td>\n",
              "      <td>White</td>\n",
              "      <td>Not Span/Hispanic</td>\n",
              "      <td>3</td>\n",
              "      <td>Elective</td>\n",
              "      <td>Home or Self Care</td>\n",
              "      <td>...</td>\n",
              "      <td>3.0</td>\n",
              "      <td>Medical</td>\n",
              "      <td>0.0</td>\n",
              "      <td>N</td>\n",
              "      <td>Y</td>\n",
              "      <td>3418.18</td>\n",
              "      <td>3370.87</td>\n",
              "      <td>0.986161</td>\n",
              "      <td>1.0</td>\n",
              "      <td>1.0</td>\n",
              "    </tr>\n",
              "    <tr>\n",
              "      <th>...</th>\n",
              "      <td>...</td>\n",
              "      <td>...</td>\n",
              "      <td>...</td>\n",
              "      <td>...</td>\n",
              "      <td>...</td>\n",
              "      <td>...</td>\n",
              "      <td>...</td>\n",
              "      <td>...</td>\n",
              "      <td>...</td>\n",
              "      <td>...</td>\n",
              "      <td>...</td>\n",
              "      <td>...</td>\n",
              "      <td>...</td>\n",
              "      <td>...</td>\n",
              "      <td>...</td>\n",
              "      <td>...</td>\n",
              "      <td>...</td>\n",
              "      <td>...</td>\n",
              "      <td>...</td>\n",
              "      <td>...</td>\n",
              "      <td>...</td>\n",
              "    </tr>\n",
              "    <tr>\n",
              "      <th>618875</th>\n",
              "      <td>Capital/Adirond</td>\n",
              "      <td>Columbia</td>\n",
              "      <td>146.0</td>\n",
              "      <td>30 to 49</td>\n",
              "      <td>M</td>\n",
              "      <td>White</td>\n",
              "      <td>Not Span/Hispanic</td>\n",
              "      <td>11</td>\n",
              "      <td>Emergency</td>\n",
              "      <td>Home or Self Care</td>\n",
              "      <td>...</td>\n",
              "      <td>1.0</td>\n",
              "      <td>Medical</td>\n",
              "      <td>0.0</td>\n",
              "      <td>N</td>\n",
              "      <td>Y</td>\n",
              "      <td>18356.61</td>\n",
              "      <td>7731.76</td>\n",
              "      <td>0.421198</td>\n",
              "      <td>1.0</td>\n",
              "      <td>2.0</td>\n",
              "    </tr>\n",
              "    <tr>\n",
              "      <th>618876</th>\n",
              "      <td>Capital/Adirond</td>\n",
              "      <td>Columbia</td>\n",
              "      <td>146.0</td>\n",
              "      <td>30 to 49</td>\n",
              "      <td>F</td>\n",
              "      <td>White</td>\n",
              "      <td>Not Span/Hispanic</td>\n",
              "      <td>1</td>\n",
              "      <td>Emergency</td>\n",
              "      <td>Home or Self Care</td>\n",
              "      <td>...</td>\n",
              "      <td>1.0</td>\n",
              "      <td>Medical</td>\n",
              "      <td>0.0</td>\n",
              "      <td>N</td>\n",
              "      <td>Y</td>\n",
              "      <td>9767.96</td>\n",
              "      <td>3194.72</td>\n",
              "      <td>0.327061</td>\n",
              "      <td>1.0</td>\n",
              "      <td>1.0</td>\n",
              "    </tr>\n",
              "    <tr>\n",
              "      <th>618877</th>\n",
              "      <td>Capital/Adirond</td>\n",
              "      <td>Columbia</td>\n",
              "      <td>146.0</td>\n",
              "      <td>0 to 17</td>\n",
              "      <td>M</td>\n",
              "      <td>White</td>\n",
              "      <td>Not Span/Hispanic</td>\n",
              "      <td>2</td>\n",
              "      <td>Newborn</td>\n",
              "      <td>Home or Self Care</td>\n",
              "      <td>...</td>\n",
              "      <td>1.0</td>\n",
              "      <td>Medical</td>\n",
              "      <td>4400.0</td>\n",
              "      <td>N</td>\n",
              "      <td>N</td>\n",
              "      <td>3411.76</td>\n",
              "      <td>1358.63</td>\n",
              "      <td>0.398218</td>\n",
              "      <td>1.0</td>\n",
              "      <td>3.0</td>\n",
              "    </tr>\n",
              "    <tr>\n",
              "      <th>618878</th>\n",
              "      <td>Capital/Adirond</td>\n",
              "      <td>Columbia</td>\n",
              "      <td>146.0</td>\n",
              "      <td>50 to 69</td>\n",
              "      <td>M</td>\n",
              "      <td>White</td>\n",
              "      <td>Not Span/Hispanic</td>\n",
              "      <td>1</td>\n",
              "      <td>Emergency</td>\n",
              "      <td>Home or Self Care</td>\n",
              "      <td>...</td>\n",
              "      <td>2.0</td>\n",
              "      <td>Medical</td>\n",
              "      <td>0.0</td>\n",
              "      <td>N</td>\n",
              "      <td>Y</td>\n",
              "      <td>10231.34</td>\n",
              "      <td>2355.64</td>\n",
              "      <td>0.230238</td>\n",
              "      <td>0.0</td>\n",
              "      <td>3.0</td>\n",
              "    </tr>\n",
              "    <tr>\n",
              "      <th>618879</th>\n",
              "      <td>Capital/Adirond</td>\n",
              "      <td>Columbia</td>\n",
              "      <td>146.0</td>\n",
              "      <td>18 to 29</td>\n",
              "      <td>NaN</td>\n",
              "      <td>NaN</td>\n",
              "      <td>NaN</td>\n",
              "      <td>NaN</td>\n",
              "      <td>NaN</td>\n",
              "      <td>NaN</td>\n",
              "      <td>...</td>\n",
              "      <td>NaN</td>\n",
              "      <td>NaN</td>\n",
              "      <td>NaN</td>\n",
              "      <td>NaN</td>\n",
              "      <td>NaN</td>\n",
              "      <td>NaN</td>\n",
              "      <td>NaN</td>\n",
              "      <td>NaN</td>\n",
              "      <td>NaN</td>\n",
              "      <td>NaN</td>\n",
              "    </tr>\n",
              "  </tbody>\n",
              "</table>\n",
              "<p>618880 rows × 24 columns</p>\n",
              "</div>\n",
              "      <button class=\"colab-df-convert\" onclick=\"convertToInteractive('df-70fba5da-9d0a-4880-8d1a-b4e9f7ce8119')\"\n",
              "              title=\"Convert this dataframe to an interactive table.\"\n",
              "              style=\"display:none;\">\n",
              "        \n",
              "  <svg xmlns=\"http://www.w3.org/2000/svg\" height=\"24px\"viewBox=\"0 0 24 24\"\n",
              "       width=\"24px\">\n",
              "    <path d=\"M0 0h24v24H0V0z\" fill=\"none\"/>\n",
              "    <path d=\"M18.56 5.44l.94 2.06.94-2.06 2.06-.94-2.06-.94-.94-2.06-.94 2.06-2.06.94zm-11 1L8.5 8.5l.94-2.06 2.06-.94-2.06-.94L8.5 2.5l-.94 2.06-2.06.94zm10 10l.94 2.06.94-2.06 2.06-.94-2.06-.94-.94-2.06-.94 2.06-2.06.94z\"/><path d=\"M17.41 7.96l-1.37-1.37c-.4-.4-.92-.59-1.43-.59-.52 0-1.04.2-1.43.59L10.3 9.45l-7.72 7.72c-.78.78-.78 2.05 0 2.83L4 21.41c.39.39.9.59 1.41.59.51 0 1.02-.2 1.41-.59l7.78-7.78 2.81-2.81c.8-.78.8-2.07 0-2.86zM5.41 20L4 18.59l7.72-7.72 1.47 1.35L5.41 20z\"/>\n",
              "  </svg>\n",
              "      </button>\n",
              "      \n",
              "  <style>\n",
              "    .colab-df-container {\n",
              "      display:flex;\n",
              "      flex-wrap:wrap;\n",
              "      gap: 12px;\n",
              "    }\n",
              "\n",
              "    .colab-df-convert {\n",
              "      background-color: #E8F0FE;\n",
              "      border: none;\n",
              "      border-radius: 50%;\n",
              "      cursor: pointer;\n",
              "      display: none;\n",
              "      fill: #1967D2;\n",
              "      height: 32px;\n",
              "      padding: 0 0 0 0;\n",
              "      width: 32px;\n",
              "    }\n",
              "\n",
              "    .colab-df-convert:hover {\n",
              "      background-color: #E2EBFA;\n",
              "      box-shadow: 0px 1px 2px rgba(60, 64, 67, 0.3), 0px 1px 3px 1px rgba(60, 64, 67, 0.15);\n",
              "      fill: #174EA6;\n",
              "    }\n",
              "\n",
              "    [theme=dark] .colab-df-convert {\n",
              "      background-color: #3B4455;\n",
              "      fill: #D2E3FC;\n",
              "    }\n",
              "\n",
              "    [theme=dark] .colab-df-convert:hover {\n",
              "      background-color: #434B5C;\n",
              "      box-shadow: 0px 1px 3px 1px rgba(0, 0, 0, 0.15);\n",
              "      filter: drop-shadow(0px 1px 2px rgba(0, 0, 0, 0.3));\n",
              "      fill: #FFFFFF;\n",
              "    }\n",
              "  </style>\n",
              "\n",
              "      <script>\n",
              "        const buttonEl =\n",
              "          document.querySelector('#df-70fba5da-9d0a-4880-8d1a-b4e9f7ce8119 button.colab-df-convert');\n",
              "        buttonEl.style.display =\n",
              "          google.colab.kernel.accessAllowed ? 'block' : 'none';\n",
              "\n",
              "        async function convertToInteractive(key) {\n",
              "          const element = document.querySelector('#df-70fba5da-9d0a-4880-8d1a-b4e9f7ce8119');\n",
              "          const dataTable =\n",
              "            await google.colab.kernel.invokeFunction('convertToInteractive',\n",
              "                                                     [key], {});\n",
              "          if (!dataTable) return;\n",
              "\n",
              "          const docLinkHtml = 'Like what you see? Visit the ' +\n",
              "            '<a target=\"_blank\" href=https://colab.research.google.com/notebooks/data_table.ipynb>data table notebook</a>'\n",
              "            + ' to learn more about interactive tables.';\n",
              "          element.innerHTML = '';\n",
              "          dataTable['output_type'] = 'display_data';\n",
              "          await google.colab.output.renderOutput(dataTable, element);\n",
              "          const docLink = document.createElement('div');\n",
              "          docLink.innerHTML = docLinkHtml;\n",
              "          element.appendChild(docLink);\n",
              "        }\n",
              "      </script>\n",
              "    </div>\n",
              "  </div>\n",
              "  "
            ]
          },
          "metadata": {},
          "execution_count": 12
        }
      ],
      "source": [
        "# Import Dataset\n",
        "data=pd.read_csv('Insurance Dataset.csv')\n",
        "data"
      ]
    },
    {
      "cell_type": "markdown",
      "metadata": {
        "id": "NeVFsR4b3qXm"
      },
      "source": [
        "**EDA**"
      ]
    },
    {
      "cell_type": "code",
      "execution_count": null,
      "metadata": {
        "id": "MXsKxoFJXLIM"
      },
      "outputs": [],
      "source": [
        "#understanding the data"
      ]
    },
    {
      "cell_type": "code",
      "execution_count": null,
      "metadata": {
        "id": "0WYbdjBX3n0X"
      },
      "outputs": [],
      "source": [
        "data.head()"
      ]
    },
    {
      "cell_type": "code",
      "execution_count": null,
      "metadata": {
        "id": "v11y6zp7XLIO"
      },
      "outputs": [],
      "source": [
        "data.tail()"
      ]
    },
    {
      "cell_type": "code",
      "execution_count": null,
      "metadata": {
        "id": "GkdZlbjgXLIP"
      },
      "outputs": [],
      "source": [
        "data.describe()"
      ]
    },
    {
      "cell_type": "code",
      "execution_count": null,
      "metadata": {
        "id": "bHvjjR3bXLIQ"
      },
      "outputs": [],
      "source": [
        "#size of dataframe\n",
        "data.size"
      ]
    },
    {
      "cell_type": "code",
      "execution_count": null,
      "metadata": {
        "id": "hxJbNHGSGZmB"
      },
      "outputs": [],
      "source": [
        "#shape of DataFrame\n",
        "data.shape"
      ]
    },
    {
      "cell_type": "code",
      "execution_count": null,
      "metadata": {
        "id": "ShLYLZ3XHSBa"
      },
      "outputs": [],
      "source": [
        "#data types\n",
        "data.dtypes"
      ]
    },
    {
      "cell_type": "code",
      "execution_count": null,
      "metadata": {
        "id": "cizWmjvcQMRy"
      },
      "outputs": [],
      "source": [
        "data.columns"
      ]
    },
    {
      "cell_type": "code",
      "execution_count": null,
      "metadata": {
        "id": "zGtI-r2yXLIS"
      },
      "outputs": [],
      "source": [
        "data.nunique().sort_values(ascending=False)"
      ]
    },
    {
      "cell_type": "code",
      "execution_count": null,
      "metadata": {
        "scrolled": true,
        "id": "TmbESOOMXLIS"
      },
      "outputs": [],
      "source": [
        "data['Hospital Id'].unique()"
      ]
    },
    {
      "cell_type": "code",
      "execution_count": null,
      "metadata": {
        "id": "lQz0Qj54XLIS"
      },
      "outputs": [],
      "source": [
        "#cleaning the data"
      ]
    },
    {
      "cell_type": "code",
      "execution_count": null,
      "metadata": {
        "id": "9GTjoBp3XLIT"
      },
      "outputs": [],
      "source": [
        "data.isnull().sum()"
      ]
    },
    {
      "cell_type": "code",
      "execution_count": null,
      "metadata": {
        "id": "xLNDl-KKXLIT"
      },
      "outputs": [],
      "source": [
        "#drop this column\n",
        "data.drop(['Hospital Id'],axis=1,inplace=True)"
      ]
    },
    {
      "cell_type": "code",
      "execution_count": null,
      "metadata": {
        "id": "nKBKCqnlXLIT"
      },
      "outputs": [],
      "source": [
        "data.head()"
      ]
    },
    {
      "cell_type": "code",
      "execution_count": null,
      "metadata": {
        "id": "GZ025lMTXLIU"
      },
      "outputs": [],
      "source": [
        "#relationship analysis"
      ]
    },
    {
      "cell_type": "code",
      "execution_count": null,
      "metadata": {
        "id": "9jAfBqbxXLIU"
      },
      "outputs": [],
      "source": [
        "corr=data.corr()\n",
        "corr"
      ]
    },
    {
      "cell_type": "code",
      "execution_count": null,
      "metadata": {
        "id": "G6WdDACfXLIU"
      },
      "outputs": [],
      "source": [
        "plt.figure(figsize=(22,16))\n",
        "sns.heatmap(corr, xticklabels=corr.columns, yticklabels=corr.columns,annot=True,linewidths=1,annot_kws={'size': 25})"
      ]
    },
    {
      "cell_type": "code",
      "execution_count": null,
      "metadata": {
        "id": "ERul5QQ0XLIU"
      },
      "outputs": [],
      "source": [
        "sns.pairplot(data)"
      ]
    },
    {
      "cell_type": "code",
      "execution_count": null,
      "metadata": {
        "id": "oVwdvzkiXLIV"
      },
      "outputs": [],
      "source": [
        "sns.relplot(x= 'Gender', y='Tot_cost', hue='Age', data=data)"
      ]
    },
    {
      "cell_type": "code",
      "execution_count": null,
      "metadata": {
        "id": "sbt481OoXLIV"
      },
      "outputs": [],
      "source": [
        "sns.distplot(data['Mortality risk'])"
      ]
    },
    {
      "cell_type": "code",
      "execution_count": null,
      "metadata": {
        "id": "ekvninFLXLIV"
      },
      "outputs": [],
      "source": [
        "#Rename the columns\n",
        "data.rename({'Hospital County':'Hospital_County','Hospital Id':'Hospital_Id','Home or self care':'Home_or_self_care','Mortality risk':'Mortality_risk','Emergency dept_yes/No':'Emergency_dept_yes/No'},axis=1,inplace=True)"
      ]
    },
    {
      "cell_type": "code",
      "execution_count": null,
      "metadata": {
        "id": "KG4Us_goXLIW"
      },
      "outputs": [],
      "source": [
        "data"
      ]
    },
    {
      "cell_type": "markdown",
      "metadata": {
        "id": "06ZgRzsAJxWG"
      },
      "source": [
        "Numerical and categorical columns"
      ]
    },
    {
      "cell_type": "code",
      "execution_count": null,
      "metadata": {
        "id": "CYVnkMc-YD8I"
      },
      "outputs": [],
      "source": [
        "numeric_cols = data.select_dtypes(include=np.number).columns.tolist()"
      ]
    },
    {
      "cell_type": "code",
      "execution_count": null,
      "metadata": {
        "id": "yzqk1yzte6-B"
      },
      "outputs": [],
      "source": [
        "numeric_cols"
      ]
    },
    {
      "cell_type": "code",
      "execution_count": null,
      "metadata": {
        "id": "GjTpeR27fKpO"
      },
      "outputs": [],
      "source": [
        "categorical_cols = data.select_dtypes(include='object').columns.tolist() "
      ]
    },
    {
      "cell_type": "code",
      "execution_count": null,
      "metadata": {
        "id": "c-UcTUyLflrY"
      },
      "outputs": [],
      "source": [
        "categorical_cols"
      ]
    },
    {
      "cell_type": "code",
      "execution_count": null,
      "metadata": {
        "id": "FKveRhbgfuOf"
      },
      "outputs": [],
      "source": [
        "data.isna().sum().sort_values(axis=0, ascending=False)"
      ]
    },
    {
      "cell_type": "code",
      "execution_count": null,
      "metadata": {
        "id": "Kl3cKcWUgLzY"
      },
      "outputs": [],
      "source": [
        "total_sum_of_null_values=data.isna().sum().sort_values(axis=0, ascending=False).sum()"
      ]
    },
    {
      "cell_type": "code",
      "execution_count": null,
      "metadata": {
        "id": "82KY_LL2XLIX"
      },
      "outputs": [],
      "source": [
        "total_sum_of_null_values"
      ]
    },
    {
      "cell_type": "code",
      "execution_count": null,
      "metadata": {
        "id": "sRHGcqIrXLIX"
      },
      "outputs": [],
      "source": [
        "percentage_of_null_values=(total_sum_of_null_values/1048575)*100\n",
        "percentage_of_null_values"
      ]
    },
    {
      "cell_type": "code",
      "execution_count": null,
      "metadata": {
        "id": "sqClzN5XXLIX"
      },
      "outputs": [],
      "source": [
        "#percentage of null values is very negligible(i.e 0.4)\n",
        "data.dropna(axis=0,inplace=True)"
      ]
    },
    {
      "cell_type": "code",
      "execution_count": null,
      "metadata": {
        "id": "aiSisfmmXLIX"
      },
      "outputs": [],
      "source": [
        "data.isna().sum()"
      ]
    },
    {
      "cell_type": "code",
      "execution_count": null,
      "metadata": {
        "id": "y_OuIrt0XLIY"
      },
      "outputs": [],
      "source": [
        "data.shape"
      ]
    },
    {
      "cell_type": "code",
      "execution_count": null,
      "metadata": {
        "id": "-GooHefQXLIY"
      },
      "outputs": [],
      "source": [
        "raw_data = data.copy()\n",
        "raw_data"
      ]
    },
    {
      "cell_type": "code",
      "execution_count": null,
      "metadata": {
        "id": "vyzo7mF0gCZ0"
      },
      "outputs": [],
      "source": [
        "#Handling Numeric Missing values"
      ]
    },
    {
      "cell_type": "code",
      "execution_count": null,
      "metadata": {
        "id": "B6DeKwyMXLIY"
      },
      "outputs": [],
      "source": [
        "raw_data[numeric_cols].isnull().sum().sort_values(ascending=False)"
      ]
    },
    {
      "cell_type": "code",
      "execution_count": null,
      "metadata": {
        "id": "DQW5S9L1gnRf"
      },
      "outputs": [],
      "source": [
        "from sklearn.impute import SimpleImputer"
      ]
    },
    {
      "cell_type": "code",
      "execution_count": null,
      "metadata": {
        "id": "dDannXTqqvSY"
      },
      "outputs": [],
      "source": [
        "#replace numeric columns\n",
        "imputer = SimpleImputer(strategy='mean').fit(raw_data[numeric_cols])"
      ]
    },
    {
      "cell_type": "code",
      "execution_count": null,
      "metadata": {
        "id": "Y3L1ROdVrOTa"
      },
      "outputs": [],
      "source": [
        "raw_data[numeric_cols]=imputer.transform(raw_data[numeric_cols])"
      ]
    },
    {
      "cell_type": "code",
      "execution_count": null,
      "metadata": {
        "id": "fiwlMlAYrub8"
      },
      "outputs": [],
      "source": [
        "raw_data[numeric_cols].isnull().sum()"
      ]
    },
    {
      "cell_type": "code",
      "execution_count": null,
      "metadata": {
        "id": "dIJwKYLMr7r1"
      },
      "outputs": [],
      "source": [
        "imp = SimpleImputer(missing_values=np.nan, strategy='most_frequent').fit(raw_data[categorical_cols])\n"
      ]
    },
    {
      "cell_type": "code",
      "execution_count": null,
      "metadata": {
        "id": "x0y9x2Am11bw"
      },
      "outputs": [],
      "source": [
        "raw_data[categorical_cols]= imp.transform(raw_data[categorical_cols])"
      ]
    },
    {
      "cell_type": "code",
      "execution_count": null,
      "metadata": {
        "id": "4Jtied-K2YN5"
      },
      "outputs": [],
      "source": [
        "raw_data[categorical_cols].isnull().sum()"
      ]
    },
    {
      "cell_type": "code",
      "execution_count": null,
      "metadata": {
        "id": "Q6aDXuiD2qGm"
      },
      "outputs": [],
      "source": [
        "#Check in the duplicated records\n",
        "raw_data[raw_data.duplicated()]"
      ]
    },
    {
      "cell_type": "code",
      "execution_count": null,
      "metadata": {
        "id": "t9SauRyu3Pys"
      },
      "outputs": [],
      "source": [
        "#Removing the duplicated rows\n",
        "raw_data=raw_data.drop_duplicates()"
      ]
    },
    {
      "cell_type": "code",
      "execution_count": null,
      "metadata": {
        "id": "z0kJfea73_J7"
      },
      "outputs": [],
      "source": [
        "raw_data.info()"
      ]
    },
    {
      "cell_type": "code",
      "execution_count": null,
      "metadata": {
        "id": "M92XqYdL_MkN"
      },
      "outputs": [],
      "source": [
        "#pd.set_option('display.max_rows',1000)\n",
        "raw_data.groupby(['Age','Admission_type']).Days_spend_hsptl.count().sort_values(ascending=False).reset_index()"
      ]
    },
    {
      "cell_type": "code",
      "execution_count": null,
      "metadata": {
        "id": "WILuh-BX4GIS"
      },
      "outputs": [],
      "source": [
        "raw_data.Age.value_counts().plot(kind='bar')"
      ]
    },
    {
      "cell_type": "code",
      "execution_count": null,
      "metadata": {
        "id": "FMpXhqd34dCg"
      },
      "outputs": [],
      "source": [
        "#plt.bar(raw_data,x='Surg_Description',color='Surg_Description)\n",
        "raw_data.Surg_Description.value_counts().plot(kind='bar',color='green')"
      ]
    },
    {
      "cell_type": "code",
      "execution_count": null,
      "metadata": {
        "id": "p3FX6VIZA_nr"
      },
      "outputs": [],
      "source": [
        "ssn.distplot(data['Tot_cost'])"
      ]
    },
    {
      "cell_type": "code",
      "execution_count": null,
      "metadata": {
        "id": "TWizJZ38BO4t"
      },
      "outputs": [],
      "source": [
        "plt.scatter(data['Tot_charg'],y=data['Tot_cost'])"
      ]
    },
    {
      "cell_type": "code",
      "execution_count": null,
      "metadata": {
        "id": "TVsadS2waHTa"
      },
      "outputs": [],
      "source": [
        "#raw_data['Tot_Amt_diff'] = data['Tot_cost']-data['Tot_charg']\n",
        "ssn.barplot(x='Admission_type',y='Tot_charg',data=raw_data)"
      ]
    },
    {
      "cell_type": "code",
      "execution_count": null,
      "metadata": {
        "id": "eA5N8FvvvmDU"
      },
      "outputs": [],
      "source": [
        ""
      ]
    }
  ],
  "metadata": {
    "colab": {
      "collapsed_sections": [],
      "name": "Fraud_detection.ipynb",
      "provenance": [],
      "include_colab_link": true
    },
    "kernelspec": {
      "display_name": "Python 3 (ipykernel)",
      "language": "python",
      "name": "python3"
    },
    "language_info": {
      "codemirror_mode": {
        "name": "ipython",
        "version": 3
      },
      "file_extension": ".py",
      "mimetype": "text/x-python",
      "name": "python",
      "nbconvert_exporter": "python",
      "pygments_lexer": "ipython3",
      "version": "3.9.7"
    }
  },
  "nbformat": 4,
  "nbformat_minor": 0
}